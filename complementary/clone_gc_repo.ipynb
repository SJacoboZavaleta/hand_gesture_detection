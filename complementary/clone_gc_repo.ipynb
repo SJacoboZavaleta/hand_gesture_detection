{
  "nbformat": 4,
  "nbformat_minor": 0,
  "metadata": {
    "colab": {
      "provenance": []
    },
    "kernelspec": {
      "name": "python3",
      "display_name": "Python 3"
    },
    "language_info": {
      "name": "python"
    }
  },
  "cells": [
    {
      "cell_type": "code",
      "execution_count": 1,
      "metadata": {
        "colab": {
          "base_uri": "https://localhost:8080/"
        },
        "id": "jSaSYOrBoFmU",
        "outputId": "2192dae6-5dae-49f6-d294-ca487b3b42d9"
      },
      "outputs": [
        {
          "output_type": "stream",
          "name": "stdout",
          "text": [
            "Mounted at /content/drive\n"
          ]
        }
      ],
      "source": [
        "# 1. Montar Google Drive\n",
        "from google.colab import drive\n",
        "drive.mount('/content/drive')"
      ]
    },
    {
      "cell_type": "code",
      "source": [
        "# 2. Crear carpeta de destino en Drive\n",
        "DESTINO_DRIVE = '/content/drive/MyDrive/Colab Notebooks/proyecto'\n",
        "!mkdir -p \"{DESTINO_DRIVE}\""
      ],
      "metadata": {
        "id": "Rd_QcU2ToNML"
      },
      "execution_count": 2,
      "outputs": []
    },
    {
      "cell_type": "code",
      "source": [
        "# 3. Descargar solo la carpeta google_colab usando git\n",
        "!sudo apt-get install git\n",
        "\n",
        "# URL del repositorio\n",
        "REPO_URL = \"https://github.com/SJacoboZavaleta/hand_gesture_detection.git\"\n",
        "CARPETA_DESEADA = \"src/google_colab\"  # Ruta de la carpeta dentro del repo\n",
        "\n",
        "# Clonar el repositorio\n",
        "!git clone \"{REPO_URL}\" \"{DESTINO_DRIVE}/repo_temporal\"\n",
        "\n",
        "# Copiar la carpeta deseada\n",
        "!cp -r \"{DESTINO_DRIVE}/repo_temporal/{CARPETA_DESEADA}\" \"{DESTINO_DRIVE}\"\n",
        "\n",
        "# Eliminar la carpeta temporal\n",
        "!rm -rf \"{DESTINO_DRIVE}/repo_temporal\"\n",
        "\n",
        "print(f\"\\nContenido descargado en: {DESTINO_DRIVE}\")\n",
        "!ls \"{DESTINO_DRIVE}\""
      ],
      "metadata": {
        "colab": {
          "base_uri": "https://localhost:8080/"
        },
        "id": "XRC58eWAoPOw",
        "outputId": "f94c6645-bd37-43c7-cf24-143dc0395de8"
      },
      "execution_count": 8,
      "outputs": [
        {
          "output_type": "stream",
          "name": "stdout",
          "text": [
            "Reading package lists... Done\n",
            "Building dependency tree... Done\n",
            "Reading state information... Done\n",
            "git is already the newest version (1:2.34.1-1ubuntu1.11).\n",
            "0 upgraded, 0 newly installed, 0 to remove and 49 not upgraded.\n",
            "Cloning into '/content/drive/MyDrive/Colab Notebooks/proyecto/repo_temporal'...\n",
            "remote: Enumerating objects: 350, done.\u001b[K\n",
            "remote: Counting objects: 100% (350/350), done.\u001b[K\n",
            "remote: Compressing objects: 100% (329/329), done.\u001b[K\n",
            "remote: Total 350 (delta 28), reused 340 (delta 18), pack-reused 0 (from 0)\u001b[K\n",
            "Receiving objects: 100% (350/350), 19.60 MiB | 11.58 MiB/s, done.\n",
            "Resolving deltas: 100% (28/28), done.\n",
            "Updating files: 100% (324/324), done.\n",
            "\n",
            "Contenido descargado en: /content/drive/MyDrive/Colab Notebooks/proyecto\n",
            "google_colab\n"
          ]
        }
      ]
    }
  ]
}